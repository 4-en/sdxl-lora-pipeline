{
 "cells": [
  {
   "cell_type": "markdown",
   "metadata": {},
   "source": [
    "# SDXL LoRA Pipeline\n",
    "Goal: create a pipeline to create and use LoRAs with SDXL\n",
    "\n",
    "## Steps\n",
    "- [ ] run sdxl locally\n",
    "- [ ] create a LoRA\n",
    "- [ ] train a LoRA\n",
    "- [ ] use a LoRA\n",
    "- [ ] use LoRA for image to image generation"
   ]
  }
 ],
 "metadata": {
  "language_info": {
   "name": "python"
  }
 },
 "nbformat": 4,
 "nbformat_minor": 2
}
